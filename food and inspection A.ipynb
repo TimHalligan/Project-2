{
 "cells": [
  {
   "cell_type": "code",
   "execution_count": null,
   "metadata": {},
   "outputs": [],
   "source": [
    "!pip install sodapy"
   ]
  },
  {
   "cell_type": "code",
   "execution_count": 1,
   "metadata": {},
   "outputs": [],
   "source": [
    "import pandas as pd\n",
    "from sodapy import Socrata\n"
   ]
  },
  {
   "cell_type": "code",
   "execution_count": 2,
   "metadata": {},
   "outputs": [
    {
     "name": "stderr",
     "output_type": "stream",
     "text": [
      "WARNING:root:Requests made without an app_token will be subject to strict throttling limits.\n"
     ]
    }
   ],
   "source": [
    "# Unauthenticated client only works with public data sets. Note 'None'\n",
    "# in place of application token, and no username or password:\n",
    "client = Socrata(\"data.cityofnewyork.us\", None)"
   ]
  },
  {
   "cell_type": "code",
   "execution_count": 26,
   "metadata": {},
   "outputs": [],
   "source": [
    "# Example authenticated client (needed for non-public datasets):\n",
    "# client = Socrata(data.cityofnewyork.us,\n",
    "#                  MyAppToken,\n",
    "#                  userame=\"user@example.com\",\n",
    "#                  password=\"AFakePassword\")\n",
    "\n",
    "# First 2000 results, returned as JSON from API / converted to Python list of\n",
    "# dictionaries by sodapy.\n",
    "inspections = client.get(\"9w7m-hzhe\", limit=400000)\n",
    "\n"
   ]
  },
  {
   "cell_type": "code",
   "execution_count": 27,
   "metadata": {},
   "outputs": [],
   "source": [
    "# Convert to pandas DataFrame\n",
    "inspections_df = pd.DataFrame.from_records(inspections)"
   ]
  },
  {
   "cell_type": "code",
   "execution_count": 28,
   "metadata": {},
   "outputs": [],
   "source": [
    "inspections_df.to_csv('c:/LearnPython/inspections.csv',index=False, header=True)"
   ]
  },
  {
   "cell_type": "code",
   "execution_count": 29,
   "metadata": {
    "scrolled": false
   },
   "outputs": [
    {
     "data": {
      "text/html": [
       "<div>\n",
       "<style scoped>\n",
       "    .dataframe tbody tr th:only-of-type {\n",
       "        vertical-align: middle;\n",
       "    }\n",
       "\n",
       "    .dataframe tbody tr th {\n",
       "        vertical-align: top;\n",
       "    }\n",
       "\n",
       "    .dataframe thead th {\n",
       "        text-align: right;\n",
       "    }\n",
       "</style>\n",
       "<table border=\"1\" class=\"dataframe\">\n",
       "  <thead>\n",
       "    <tr style=\"text-align: right;\">\n",
       "      <th></th>\n",
       "      <th>action</th>\n",
       "      <th>boro</th>\n",
       "      <th>building</th>\n",
       "      <th>camis</th>\n",
       "      <th>critical_flag</th>\n",
       "      <th>cuisine_description</th>\n",
       "      <th>dba</th>\n",
       "      <th>grade</th>\n",
       "      <th>grade_date</th>\n",
       "      <th>inspection_date</th>\n",
       "      <th>inspection_type</th>\n",
       "      <th>phone</th>\n",
       "      <th>record_date</th>\n",
       "      <th>score</th>\n",
       "      <th>street</th>\n",
       "      <th>violation_code</th>\n",
       "      <th>violation_description</th>\n",
       "      <th>zipcode</th>\n",
       "    </tr>\n",
       "  </thead>\n",
       "  <tbody>\n",
       "    <tr>\n",
       "      <th>0</th>\n",
       "      <td>Violations were cited in the following area(s).</td>\n",
       "      <td>BROOKLYN</td>\n",
       "      <td>1810</td>\n",
       "      <td>50007240</td>\n",
       "      <td>Not Critical</td>\n",
       "      <td>Caribbean</td>\n",
       "      <td>CASABLANCA BAR &amp; GRILL</td>\n",
       "      <td>NaN</td>\n",
       "      <td>NaN</td>\n",
       "      <td>2015-08-14T00:00:00.000</td>\n",
       "      <td>Cycle Inspection / Initial Inspection</td>\n",
       "      <td>7182530902</td>\n",
       "      <td>2018-11-19T06:00:51.000</td>\n",
       "      <td>17</td>\n",
       "      <td>FLATBUSH AVE</td>\n",
       "      <td>10C</td>\n",
       "      <td>Lighting inadequate; permanent lighting not pr...</td>\n",
       "      <td>11210</td>\n",
       "    </tr>\n",
       "  </tbody>\n",
       "</table>\n",
       "</div>"
      ],
      "text/plain": [
       "                                            action      boro building  \\\n",
       "0  Violations were cited in the following area(s).  BROOKLYN     1810   \n",
       "\n",
       "      camis critical_flag cuisine_description                     dba grade  \\\n",
       "0  50007240  Not Critical           Caribbean  CASABLANCA BAR & GRILL   NaN   \n",
       "\n",
       "  grade_date          inspection_date                        inspection_type  \\\n",
       "0        NaN  2015-08-14T00:00:00.000  Cycle Inspection / Initial Inspection   \n",
       "\n",
       "        phone              record_date score        street violation_code  \\\n",
       "0  7182530902  2018-11-19T06:00:51.000    17  FLATBUSH AVE            10C   \n",
       "\n",
       "                               violation_description zipcode  \n",
       "0  Lighting inadequate; permanent lighting not pr...   11210  "
      ]
     },
     "execution_count": 29,
     "metadata": {},
     "output_type": "execute_result"
    }
   ],
   "source": [
    "inspections_df.head(1)"
   ]
  },
  {
   "cell_type": "code",
   "execution_count": 30,
   "metadata": {
    "scrolled": true
   },
   "outputs": [
    {
     "data": {
      "text/html": [
       "<div>\n",
       "<style scoped>\n",
       "    .dataframe tbody tr th:only-of-type {\n",
       "        vertical-align: middle;\n",
       "    }\n",
       "\n",
       "    .dataframe tbody tr th {\n",
       "        vertical-align: top;\n",
       "    }\n",
       "\n",
       "    .dataframe thead th {\n",
       "        text-align: right;\n",
       "    }\n",
       "</style>\n",
       "<table border=\"1\" class=\"dataframe\">\n",
       "  <thead>\n",
       "    <tr style=\"text-align: right;\">\n",
       "      <th></th>\n",
       "      <th>action</th>\n",
       "      <th>boro</th>\n",
       "      <th>building</th>\n",
       "      <th>camis</th>\n",
       "      <th>critical_flag</th>\n",
       "      <th>cuisine_description</th>\n",
       "      <th>dba</th>\n",
       "      <th>grade</th>\n",
       "      <th>inspection_date</th>\n",
       "      <th>inspection_type</th>\n",
       "      <th>score</th>\n",
       "      <th>street</th>\n",
       "      <th>violation_code</th>\n",
       "      <th>violation_description</th>\n",
       "      <th>zipcode</th>\n",
       "    </tr>\n",
       "  </thead>\n",
       "  <tbody>\n",
       "    <tr>\n",
       "      <th>0</th>\n",
       "      <td>Violations were cited in the following area(s).</td>\n",
       "      <td>BROOKLYN</td>\n",
       "      <td>1810</td>\n",
       "      <td>50007240</td>\n",
       "      <td>Not Critical</td>\n",
       "      <td>Caribbean</td>\n",
       "      <td>CASABLANCA BAR &amp; GRILL</td>\n",
       "      <td>NaN</td>\n",
       "      <td>2015-08-14T00:00:00.000</td>\n",
       "      <td>Cycle Inspection / Initial Inspection</td>\n",
       "      <td>17</td>\n",
       "      <td>FLATBUSH AVE</td>\n",
       "      <td>10C</td>\n",
       "      <td>Lighting inadequate; permanent lighting not pr...</td>\n",
       "      <td>11210</td>\n",
       "    </tr>\n",
       "    <tr>\n",
       "      <th>1</th>\n",
       "      <td>Violations were cited in the following area(s).</td>\n",
       "      <td>QUEENS</td>\n",
       "      <td>13801</td>\n",
       "      <td>41305392</td>\n",
       "      <td>Critical</td>\n",
       "      <td>Donuts</td>\n",
       "      <td>DUNKIN' DONUTS</td>\n",
       "      <td>A</td>\n",
       "      <td>2017-01-04T00:00:00.000</td>\n",
       "      <td>Cycle Inspection / Initial Inspection</td>\n",
       "      <td>12</td>\n",
       "      <td>QUEENS BOULEVARD</td>\n",
       "      <td>02G</td>\n",
       "      <td>Cold food item held above 41Âº F (smoked fish ...</td>\n",
       "      <td>11435</td>\n",
       "    </tr>\n",
       "    <tr>\n",
       "      <th>2</th>\n",
       "      <td>Violations were cited in the following area(s).</td>\n",
       "      <td>STATEN ISLAND</td>\n",
       "      <td>921</td>\n",
       "      <td>40385974</td>\n",
       "      <td>Critical</td>\n",
       "      <td>American</td>\n",
       "      <td>DAKOTA DINER</td>\n",
       "      <td>NaN</td>\n",
       "      <td>2018-02-15T00:00:00.000</td>\n",
       "      <td>Cycle Inspection / Initial Inspection</td>\n",
       "      <td>19</td>\n",
       "      <td>RICHMOND AVENUE</td>\n",
       "      <td>06D</td>\n",
       "      <td>Food contact surface not properly washed, rins...</td>\n",
       "      <td>10314</td>\n",
       "    </tr>\n",
       "  </tbody>\n",
       "</table>\n",
       "</div>"
      ],
      "text/plain": [
       "                                            action           boro building  \\\n",
       "0  Violations were cited in the following area(s).       BROOKLYN     1810   \n",
       "1  Violations were cited in the following area(s).         QUEENS    13801   \n",
       "2  Violations were cited in the following area(s).  STATEN ISLAND      921   \n",
       "\n",
       "      camis critical_flag cuisine_description                     dba grade  \\\n",
       "0  50007240  Not Critical           Caribbean  CASABLANCA BAR & GRILL   NaN   \n",
       "1  41305392      Critical              Donuts          DUNKIN' DONUTS     A   \n",
       "2  40385974      Critical            American            DAKOTA DINER   NaN   \n",
       "\n",
       "           inspection_date                        inspection_type score  \\\n",
       "0  2015-08-14T00:00:00.000  Cycle Inspection / Initial Inspection    17   \n",
       "1  2017-01-04T00:00:00.000  Cycle Inspection / Initial Inspection    12   \n",
       "2  2018-02-15T00:00:00.000  Cycle Inspection / Initial Inspection    19   \n",
       "\n",
       "             street violation_code  \\\n",
       "0      FLATBUSH AVE            10C   \n",
       "1  QUEENS BOULEVARD            02G   \n",
       "2   RICHMOND AVENUE            06D   \n",
       "\n",
       "                               violation_description zipcode  \n",
       "0  Lighting inadequate; permanent lighting not pr...   11210  \n",
       "1  Cold food item held above 41Âº F (smoked fish ...   11435  \n",
       "2  Food contact surface not properly washed, rins...   10314  "
      ]
     },
     "execution_count": 30,
     "metadata": {},
     "output_type": "execute_result"
    }
   ],
   "source": [
    "inspections = inspections_df.drop(inspections_df.columns[[8,11,12]], axis=1)\n",
    "\n",
    "inspections.head(1)"
   ]
  },
  {
   "cell_type": "code",
   "execution_count": 31,
   "metadata": {},
   "outputs": [],
   "source": [
    "inspections = inspections.rename(columns={\"action\": \"Action\",\"boro\": \"Borough\",\"building\": \"Street Number\",\n",
    "                                          \"camis\": \"Camis - Restaurant ID\",\"critical_flag\": \"Critical Flag\",\n",
    "                                          \"cuisine_description\": \"Cuisine\",\"dba\": \"Name\",\"grade\": \"Grade\",\n",
    "                                          \"inspection_date\": \"Inspection Date\",\"inspection_type\": \"Inspection Type\",\n",
    "                                          \"score\": \"Score\",\"street\": \"Street\",\"violation_code\": \"Violation Code\",\n",
    "                                          \"violation_description\": \"Violation Description\",\"zipcode\": \"Zip\"})"
   ]
  },
  {
   "cell_type": "code",
   "execution_count": 32,
   "metadata": {},
   "outputs": [],
   "source": [
    "inspections['Street'] = inspections.Street.astype(str)"
   ]
  },
  {
   "cell_type": "code",
   "execution_count": 33,
   "metadata": {},
   "outputs": [],
   "source": [
    "street = inspections['Street']"
   ]
  },
  {
   "cell_type": "code",
   "execution_count": 34,
   "metadata": {},
   "outputs": [],
   "source": [
    "x = []"
   ]
  },
  {
   "cell_type": "code",
   "execution_count": 35,
   "metadata": {},
   "outputs": [],
   "source": [
    "for i in street:\n",
    "    x.append(' '.join(i.split())) "
   ]
  },
  {
   "cell_type": "code",
   "execution_count": 36,
   "metadata": {},
   "outputs": [],
   "source": [
    "y = pd.Series(x)"
   ]
  },
  {
   "cell_type": "code",
   "execution_count": 37,
   "metadata": {},
   "outputs": [],
   "source": [
    "inspections.insert(loc=0, column='Adjusted Street', value=y)"
   ]
  },
  {
   "cell_type": "code",
   "execution_count": 39,
   "metadata": {},
   "outputs": [],
   "source": [
    "inspections['Full Street Address'] = inspections['Street Number'] + ' ' + inspections['Adjusted Street']"
   ]
  },
  {
   "cell_type": "code",
   "execution_count": 40,
   "metadata": {
    "scrolled": true
   },
   "outputs": [],
   "source": [
    "inspections = inspections.rename(columns={\"action\": \"Action\",\"boro\": \"Borough\",\"building\": \"Street Number\",\n",
    "                                          \"camis\": \"Camis - Restaurant ID\",\"critical_flag\": \"Critical Flag\",\n",
    "                                          \"cuisine_description\": \"Cuisine\",\"dba\": \"Name\",\"grade\": \"Grade\",\n",
    "                                          \"inspection_date\": \"Inspection Date\",\"inspection_type\": \"Inspection Type\",\n",
    "                                          \"score\": \"Score\",\"street\": \"Street\",\"violation_code\": \"Violation Code\",\n",
    "                                          \"violation_description\": \"Violation Description\",\"zipcode\": \"Zip\"})\n"
   ]
  },
  {
   "cell_type": "code",
   "execution_count": 41,
   "metadata": {},
   "outputs": [],
   "source": [
    "inspections = inspections[[\"Inspection Date\",\"Camis - Restaurant ID\",\"Name\",\"Cuisine\",\"Full Street Address\",\"Street Number\",\n",
    "                           \"Adjusted Street\",\"Street\",\"Borough\",\"Zip\",\"Action\",\"Critical Flag\",\"Inspection Type\",\"Grade\",\n",
    "                           \"Score\",\"Violation Code\",\"Violation Description\"]]"
   ]
  },
  {
   "cell_type": "code",
   "execution_count": 42,
   "metadata": {
    "scrolled": true
   },
   "outputs": [],
   "source": [
    "inspections['Inspection Date'] = pd.to_datetime(inspections[\"Inspection Date\"])"
   ]
  },
  {
   "cell_type": "code",
   "execution_count": 46,
   "metadata": {},
   "outputs": [],
   "source": [
    "inspections[\"Last\"] = inspections[\"Adjusted Street\"].str.split().str[-1]"
   ]
  },
  {
   "cell_type": "code",
   "execution_count": 48,
   "metadata": {
    "scrolled": true
   },
   "outputs": [
    {
     "data": {
      "text/html": [
       "<div>\n",
       "<style scoped>\n",
       "    .dataframe tbody tr th:only-of-type {\n",
       "        vertical-align: middle;\n",
       "    }\n",
       "\n",
       "    .dataframe tbody tr th {\n",
       "        vertical-align: top;\n",
       "    }\n",
       "\n",
       "    .dataframe thead th {\n",
       "        text-align: right;\n",
       "    }\n",
       "</style>\n",
       "<table border=\"1\" class=\"dataframe\">\n",
       "  <thead>\n",
       "    <tr style=\"text-align: right;\">\n",
       "      <th></th>\n",
       "      <th>Inspection Date</th>\n",
       "      <th>Camis - Restaurant ID</th>\n",
       "      <th>Name</th>\n",
       "      <th>Cuisine</th>\n",
       "      <th>Full Street Address</th>\n",
       "      <th>Street Number</th>\n",
       "      <th>Adjusted Street</th>\n",
       "      <th>Street</th>\n",
       "      <th>Borough</th>\n",
       "      <th>Zip</th>\n",
       "      <th>Action</th>\n",
       "      <th>Critical Flag</th>\n",
       "      <th>Inspection Type</th>\n",
       "      <th>Grade</th>\n",
       "      <th>Score</th>\n",
       "      <th>Violation Code</th>\n",
       "      <th>Violation Description</th>\n",
       "      <th>Last</th>\n",
       "    </tr>\n",
       "  </thead>\n",
       "  <tbody>\n",
       "    <tr>\n",
       "      <th>0</th>\n",
       "      <td>2015-08-14</td>\n",
       "      <td>50007240</td>\n",
       "      <td>CASABLANCA BAR &amp; GRILL</td>\n",
       "      <td>Caribbean</td>\n",
       "      <td>1810 FLATBUSH AVE</td>\n",
       "      <td>1810</td>\n",
       "      <td>FLATBUSH AVE</td>\n",
       "      <td>FLATBUSH AVE</td>\n",
       "      <td>BROOKLYN</td>\n",
       "      <td>11210</td>\n",
       "      <td>Violations were cited in the following area(s).</td>\n",
       "      <td>Not Critical</td>\n",
       "      <td>Cycle Inspection / Initial Inspection</td>\n",
       "      <td>NaN</td>\n",
       "      <td>17</td>\n",
       "      <td>10C</td>\n",
       "      <td>Lighting inadequate; permanent lighting not pr...</td>\n",
       "      <td>AVE</td>\n",
       "    </tr>\n",
       "  </tbody>\n",
       "</table>\n",
       "</div>"
      ],
      "text/plain": [
       "  Inspection Date Camis - Restaurant ID                    Name    Cuisine  \\\n",
       "0      2015-08-14              50007240  CASABLANCA BAR & GRILL  Caribbean   \n",
       "\n",
       "  Full Street Address Street Number Adjusted Street        Street   Borough  \\\n",
       "0   1810 FLATBUSH AVE          1810    FLATBUSH AVE  FLATBUSH AVE  BROOKLYN   \n",
       "\n",
       "     Zip                                           Action Critical Flag  \\\n",
       "0  11210  Violations were cited in the following area(s).  Not Critical   \n",
       "\n",
       "                         Inspection Type Grade Score Violation Code  \\\n",
       "0  Cycle Inspection / Initial Inspection   NaN    17            10C   \n",
       "\n",
       "                               Violation Description Last  \n",
       "0  Lighting inadequate; permanent lighting not pr...  AVE  "
      ]
     },
     "execution_count": 48,
     "metadata": {},
     "output_type": "execute_result"
    }
   ],
   "source": [
    "inspections.head(1)"
   ]
  },
  {
   "cell_type": "code",
   "execution_count": null,
   "metadata": {},
   "outputs": [],
   "source": [
    "inspections.to_csv('c:/LearnPython/inspections_nyc.csv',index=False, header=True)"
   ]
  },
  {
   "cell_type": "code",
   "execution_count": 100,
   "metadata": {},
   "outputs": [],
   "source": [
    "# Example authenticated client (needed for non-public datasets):\n",
    "# client = Socrata(data.cityofnewyork.us,\n",
    "#                  MyAppToken,\n",
    "#                  userame=\"user@example.com\",\n",
    "#                  password=\"AFakePassword\")\n",
    "\n",
    "# First 2000 results, returned as JSON from API / converted to Python list of|\n",
    "# dictionaries by sodapy.\n",
    "food_poisoning = client.get(\"gjkf-etq5\", limit=30000)\n",
    "\n"
   ]
  },
  {
   "cell_type": "code",
   "execution_count": 101,
   "metadata": {},
   "outputs": [],
   "source": [
    "food_df.to_csv('c:/LearnPython/food.csv',index=False, header=True)"
   ]
  },
  {
   "cell_type": "code",
   "execution_count": 103,
   "metadata": {
    "scrolled": false
   },
   "outputs": [],
   "source": [
    "food = food_df.drop(food_df.columns[[30,29,26,25,24,23,21,20,18,17,16,13,12,10,9,6,5,2,1]], axis=1)\n"
   ]
  },
  {
   "cell_type": "code",
   "execution_count": 104,
   "metadata": {},
   "outputs": [
    {
     "data": {
      "text/html": [
       "<div>\n",
       "<style scoped>\n",
       "    .dataframe tbody tr th:only-of-type {\n",
       "        vertical-align: middle;\n",
       "    }\n",
       "\n",
       "    .dataframe tbody tr th {\n",
       "        vertical-align: top;\n",
       "    }\n",
       "\n",
       "    .dataframe thead th {\n",
       "        text-align: right;\n",
       "    }\n",
       "</style>\n",
       "<table border=\"1\" class=\"dataframe\">\n",
       "  <thead>\n",
       "    <tr style=\"text-align: right;\">\n",
       "      <th></th>\n",
       "      <th>Key</th>\n",
       "      <th>Incident Date</th>\n",
       "      <th>Complaint</th>\n",
       "      <th>Street_Address</th>\n",
       "      <th>Borough</th>\n",
       "      <th>Zip</th>\n",
       "      <th>Longitude</th>\n",
       "      <th>Latitude</th>\n",
       "    </tr>\n",
       "  </thead>\n",
       "  <tbody>\n",
       "    <tr>\n",
       "      <th>0</th>\n",
       "      <td>40969788</td>\n",
       "      <td>2018-11-17T22:14:49</td>\n",
       "      <td>Food Poisoning</td>\n",
       "      <td>98-95 QUEENS BOULEVARD</td>\n",
       "      <td>QUEENS</td>\n",
       "      <td>11374</td>\n",
       "      <td>-73.85523489454108</td>\n",
       "      <td>40.72752040635547</td>\n",
       "    </tr>\n",
       "  </tbody>\n",
       "</table>\n",
       "</div>"
      ],
      "text/plain": [
       "        Key        Incident Date       Complaint          Street_Address  \\\n",
       "0  40969788  2018-11-17T22:14:49  Food Poisoning  98-95 QUEENS BOULEVARD   \n",
       "\n",
       "  Borough    Zip           Longitude           Latitude  \n",
       "0  QUEENS  11374  -73.85523489454108  40.72752040635547  "
      ]
     },
     "execution_count": 104,
     "metadata": {},
     "output_type": "execute_result"
    }
   ],
   "source": [
    "food = food.rename(columns={\"created_date\": \"Incident Date\",\"complaint_type\": \"Complaint\",\"address_type\": \"Address Type\",\n",
    "                               \"incident_address\": \"Street_Address\",\"street_name\": \"Street\",\"borough\": \"Borough\",\n",
    "                               \"city\": \"City\",\"incident_zip\": \"Zip\",\"descriptor\": \"Descriptor\",\"unique_key\":\"Key\",\n",
    "                                \"longitude\": \"Longitude\", \"latitude\":\"Latitude\"})\n",
    "\n",
    "food = food[[\"Key\",\"Incident Date\",\"Complaint\",\"Street_Address\",\"Borough\",\"Zip\",\"Longitude\",\"Latitude\"]]\n",
    "food.head(1)             "
   ]
  },
  {
   "cell_type": "code",
   "execution_count": 105,
   "metadata": {},
   "outputs": [],
   "source": [
    "food['Street_Address'] = food.Street_Address.astype(str)\n",
    "\n",
    "x = []\n",
    "y = food['Street_Address']\n",
    "\n",
    "for i in y:\n",
    "    x.append(' '.join(i.split())) "
   ]
  },
  {
   "cell_type": "code",
   "execution_count": 106,
   "metadata": {},
   "outputs": [
    {
     "data": {
      "text/html": [
       "<div>\n",
       "<style scoped>\n",
       "    .dataframe tbody tr th:only-of-type {\n",
       "        vertical-align: middle;\n",
       "    }\n",
       "\n",
       "    .dataframe tbody tr th {\n",
       "        vertical-align: top;\n",
       "    }\n",
       "\n",
       "    .dataframe thead th {\n",
       "        text-align: right;\n",
       "    }\n",
       "</style>\n",
       "<table border=\"1\" class=\"dataframe\">\n",
       "  <thead>\n",
       "    <tr style=\"text-align: right;\">\n",
       "      <th></th>\n",
       "      <th>Adjusted Street</th>\n",
       "      <th>Key</th>\n",
       "      <th>Incident Date</th>\n",
       "      <th>Complaint</th>\n",
       "      <th>Borough</th>\n",
       "      <th>Zip</th>\n",
       "      <th>Longitude</th>\n",
       "      <th>Latitude</th>\n",
       "    </tr>\n",
       "  </thead>\n",
       "  <tbody>\n",
       "    <tr>\n",
       "      <th>0</th>\n",
       "      <td>98-95 QUEENS BOULEVARD</td>\n",
       "      <td>40969788</td>\n",
       "      <td>2018-11-17T22:14:49</td>\n",
       "      <td>Food Poisoning</td>\n",
       "      <td>QUEENS</td>\n",
       "      <td>11374</td>\n",
       "      <td>-73.85523489454108</td>\n",
       "      <td>40.72752040635547</td>\n",
       "    </tr>\n",
       "  </tbody>\n",
       "</table>\n",
       "</div>"
      ],
      "text/plain": [
       "          Adjusted Street       Key        Incident Date       Complaint  \\\n",
       "0  98-95 QUEENS BOULEVARD  40969788  2018-11-17T22:14:49  Food Poisoning   \n",
       "\n",
       "  Borough    Zip           Longitude           Latitude  \n",
       "0  QUEENS  11374  -73.85523489454108  40.72752040635547  "
      ]
     },
     "execution_count": 106,
     "metadata": {},
     "output_type": "execute_result"
    }
   ],
   "source": [
    "y = pd.Series(x)\n",
    "food.insert(loc=0, column='Adjusted Street', value=y)\n",
    "\n",
    "food = food.drop(columns=['Street_Address'])\n",
    "\n",
    "food.head(1)"
   ]
  },
  {
   "cell_type": "code",
   "execution_count": 107,
   "metadata": {},
   "outputs": [],
   "source": [
    "food['Incident Date'] = pd.to_datetime(food[\"Incident Date\"])"
   ]
  },
  {
   "cell_type": "code",
   "execution_count": 108,
   "metadata": {},
   "outputs": [],
   "source": [
    "food[\"Last\"] = food[\"Adjusted Street\"].str.split().str[-1]"
   ]
  },
  {
   "cell_type": "code",
   "execution_count": 112,
   "metadata": {
    "scrolled": true
   },
   "outputs": [
    {
     "data": {
      "text/html": [
       "<div>\n",
       "<style scoped>\n",
       "    .dataframe tbody tr th:only-of-type {\n",
       "        vertical-align: middle;\n",
       "    }\n",
       "\n",
       "    .dataframe tbody tr th {\n",
       "        vertical-align: top;\n",
       "    }\n",
       "\n",
       "    .dataframe thead th {\n",
       "        text-align: right;\n",
       "    }\n",
       "</style>\n",
       "<table border=\"1\" class=\"dataframe\">\n",
       "  <thead>\n",
       "    <tr style=\"text-align: right;\">\n",
       "      <th></th>\n",
       "      <th>New Adjusted Street</th>\n",
       "      <th>Adjusted Street</th>\n",
       "      <th>Key</th>\n",
       "      <th>Incident Date</th>\n",
       "      <th>Complaint</th>\n",
       "      <th>Borough</th>\n",
       "      <th>Zip</th>\n",
       "      <th>Longitude</th>\n",
       "      <th>Latitude</th>\n",
       "      <th>Last</th>\n",
       "    </tr>\n",
       "  </thead>\n",
       "  <tbody>\n",
       "    <tr>\n",
       "      <th>0</th>\n",
       "      <td>98-95 QUEENS</td>\n",
       "      <td>98-95 QUEENS BOULEVARD</td>\n",
       "      <td>40969788</td>\n",
       "      <td>2018-11-17 22:14:49</td>\n",
       "      <td>Food Poisoning</td>\n",
       "      <td>QUEENS</td>\n",
       "      <td>11374</td>\n",
       "      <td>-73.85523489454108</td>\n",
       "      <td>40.72752040635547</td>\n",
       "      <td>BOULEVARD</td>\n",
       "    </tr>\n",
       "  </tbody>\n",
       "</table>\n",
       "</div>"
      ],
      "text/plain": [
       "  New Adjusted Street         Adjusted Street       Key       Incident Date  \\\n",
       "0        98-95 QUEENS  98-95 QUEENS BOULEVARD  40969788 2018-11-17 22:14:49   \n",
       "\n",
       "        Complaint Borough    Zip           Longitude           Latitude  \\\n",
       "0  Food Poisoning  QUEENS  11374  -73.85523489454108  40.72752040635547   \n",
       "\n",
       "        Last  \n",
       "0  BOULEVARD  "
      ]
     },
     "execution_count": 112,
     "metadata": {},
     "output_type": "execute_result"
    }
   ],
   "source": [
    "food.head(1)"
   ]
  },
  {
   "cell_type": "code",
   "execution_count": 110,
   "metadata": {},
   "outputs": [],
   "source": [
    "z = food['Adjusted Street']\n",
    "\n",
    "j = []\n",
    "\n",
    "for i in z:\n",
    "    j.append(i.rsplit(' ', 1)[0])"
   ]
  },
  {
   "cell_type": "code",
   "execution_count": 111,
   "metadata": {},
   "outputs": [
    {
     "data": {
      "text/html": [
       "<div>\n",
       "<style scoped>\n",
       "    .dataframe tbody tr th:only-of-type {\n",
       "        vertical-align: middle;\n",
       "    }\n",
       "\n",
       "    .dataframe tbody tr th {\n",
       "        vertical-align: top;\n",
       "    }\n",
       "\n",
       "    .dataframe thead th {\n",
       "        text-align: right;\n",
       "    }\n",
       "</style>\n",
       "<table border=\"1\" class=\"dataframe\">\n",
       "  <thead>\n",
       "    <tr style=\"text-align: right;\">\n",
       "      <th></th>\n",
       "      <th>New Adjusted Street</th>\n",
       "      <th>Adjusted Street</th>\n",
       "      <th>Key</th>\n",
       "      <th>Incident Date</th>\n",
       "      <th>Complaint</th>\n",
       "      <th>Borough</th>\n",
       "      <th>Zip</th>\n",
       "      <th>Longitude</th>\n",
       "      <th>Latitude</th>\n",
       "      <th>Last</th>\n",
       "    </tr>\n",
       "  </thead>\n",
       "  <tbody>\n",
       "    <tr>\n",
       "      <th>0</th>\n",
       "      <td>98-95 QUEENS</td>\n",
       "      <td>98-95 QUEENS BOULEVARD</td>\n",
       "      <td>40969788</td>\n",
       "      <td>2018-11-17 22:14:49</td>\n",
       "      <td>Food Poisoning</td>\n",
       "      <td>QUEENS</td>\n",
       "      <td>11374</td>\n",
       "      <td>-73.85523489454108</td>\n",
       "      <td>40.72752040635547</td>\n",
       "      <td>BOULEVARD</td>\n",
       "    </tr>\n",
       "  </tbody>\n",
       "</table>\n",
       "</div>"
      ],
      "text/plain": [
       "  New Adjusted Street         Adjusted Street       Key       Incident Date  \\\n",
       "0        98-95 QUEENS  98-95 QUEENS BOULEVARD  40969788 2018-11-17 22:14:49   \n",
       "\n",
       "        Complaint Borough    Zip           Longitude           Latitude  \\\n",
       "0  Food Poisoning  QUEENS  11374  -73.85523489454108  40.72752040635547   \n",
       "\n",
       "        Last  \n",
       "0  BOULEVARD  "
      ]
     },
     "execution_count": 111,
     "metadata": {},
     "output_type": "execute_result"
    }
   ],
   "source": [
    "food.insert(loc=0, column='New Adjusted Street', value=j)\n",
    "\n",
    "food.head(1)"
   ]
  },
  {
   "cell_type": "code",
   "execution_count": 51,
   "metadata": {},
   "outputs": [],
   "source": [
    "List1 = food['Last'].unique().tolist()\n",
    "List2 = inspections['Last'].unique().tolist()\n",
    "\n",
    "uniqueList = []\n",
    "\n",
    "for i in mergedlist:\n",
    "    if i not in uniqueList:\n",
    "        uniqueList.append(i)\n",
    "        \n",
    "uniqueList.sort()             "
   ]
  },
  {
   "cell_type": "code",
   "execution_count": 78,
   "metadata": {},
   "outputs": [],
   "source": [
    "food.to_csv('c:/LearnPython/food_poinsoning_nyc.csv',index=False, header=True)"
   ]
  }
 ],
 "metadata": {
  "kernelspec": {
   "display_name": "Python [default]",
   "language": "python",
   "name": "python3"
  },
  "language_info": {
   "codemirror_mode": {
    "name": "ipython",
    "version": 3
   },
   "file_extension": ".py",
   "mimetype": "text/x-python",
   "name": "python",
   "nbconvert_exporter": "python",
   "pygments_lexer": "ipython3",
   "version": "3.6.5"
  }
 },
 "nbformat": 4,
 "nbformat_minor": 2
}
